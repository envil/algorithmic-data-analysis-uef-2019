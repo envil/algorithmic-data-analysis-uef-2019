{
 "cells": [
  {
   "cell_type": "markdown",
   "metadata": {},
   "source": [
    "# Problem 1c\n",
    "The idea is that it is likely that edges connecting separate modules\n",
    "have high edge betweenness as all the shortest paths from one module\n",
    "to another must traverse through them.\n",
    "\n",
    "So if we gradually remove the edge with the highest edge betweenness\n",
    "score we will get a hierarchical map, a rooted tree, called a\n",
    "dendrogram of the graph.\n",
    "- The leafs of the tree are the individual vertices\n",
    "- The root of the tree represents the whole graph\n",
    "\n",
    "ref: [http://www2.unb.ca/~ddu/6634/Lecture_notes/Lect10_community_R.pdf](http://www2.unb.ca/~ddu/6634/Lecture_notes/Lect10_community_R.pdf)\n",
    "\n",
    "# Problem 2a\n"
   ]
  },
  {
   "cell_type": "code",
   "execution_count": 2,
   "metadata": {},
   "outputs": [],
   "source": [
    "import numpy as np\n",
    "\n",
    "nodes = np.array([[0.09, 0.69],\n",
    "                  [0.04, 0.41],\n",
    "                  [0.17, 0.05],\n",
    "                  [0.88, 0.54],\n",
    "                  [0.10, 0.66],\n",
    "                  [0.42, 0.51],\n",
    "                  [0.96, 0.94],\n",
    "                  [0.53, 0.59],\n",
    "                  [0.69, 0.90],\n",
    "                  [0.32, 0.14]])\n",
    "\n",
    "node_names = ['a', 'b', 'c', 'd', 'e', 'f', 'g', 'h', 'i', 'j']\n",
    "\n",
    "edges = np.array([[0.27, 0.40, 0.69, 0.14],\n",
    "                  [0.40, 0.58, 0.83, 0.81],\n",
    "                  [0.10, 0.15, 0.02, 0.40],\n",
    "                  [0.23, 0.33, 0.75, 0.17],\n",
    "                  [0.14, 0.24, 0.99, 0.93],\n",
    "                  [0.12, 0.20, 0.75, 0.35],\n",
    "                  [0.16, 0.26, 0.28, 0.75],\n",
    "                  [0.21, 0.36, 0.79, 0.73],\n",
    "                  [0.21, 0.39, 0.10, 0.88],\n",
    "                  [0.25, 0.47, 0.45, 0.62],\n",
    "                  [0.19, 0.40, 0.91, 0.75],\n",
    "                  [0.28, 0.56, 0.29, 0.35],\n",
    "                  [0.48, 0.27, 0.29, 0.27],\n",
    "                  [0.36, 0.68, 0.13, 0.90],\n",
    "                  [0.10, 0.17, 0.02, 0.43],\n",
    "                  [0.27, 0.55, 0.68, 0.96],\n",
    "                  [0.24, 0.40, 0.21, 0.66],\n",
    "                  [0.23, 0.49, 0.27, 0.62],\n",
    "                  [0.25, 0.23, 0.49, 0.11],\n",
    "                  [0.48, 0.27, 0.05, 0.95],\n",
    "                  [0.28, 0.63, 0.57, 0.45],\n",
    "                  [0.34, 0.73, 0.15, 0.58],\n",
    "                  [0.36, 0.34, 0.59, 0.41],\n",
    "                  [0.35, 0.56, 0.70, 0.24],\n",
    "                  [0.40, 0.68, 0.10, 0.90],\n",
    "                  [0.30, 0.68, 0.41, 0.57]])\n",
    "\n",
    "edge_names = ['a-c', 'a-e', 'a-g', 'a-h', 'b-d', 'b-f', 'b-i', 'b-j', 'c-d', 'c-f', 'd-e', 'g-h', 'i-j', 'c-a',\n",
    "              'e-a', 'g-a', 'h-a', 'd-b', 'f-b', 'i-b', 'j-b', 'd-c', 'f-c', 'e-d', 'h-g', 'ji', ]\n"
   ]
  },
  {
   "cell_type": "markdown",
   "metadata": {},
   "source": [
    "## Simulation A"
   ]
  },
  {
   "cell_type": "code",
   "execution_count": 10,
   "metadata": {},
   "outputs": [
    {
     "name": "stdout",
     "output_type": "stream",
     "text": [
      "a\t0.01\nb\t0.02\nc\t0.12\nd\t0.6\ne\t0.08\nf\t0.35\ng\t0.27\nh\t0.29\ni\t0.54\nj\t0.18\n"
     ]
    }
   ],
   "source": [
    "A = 0\n",
    "B = 1\n",
    "\n",
    "for i in range(len(node_names)):\n",
    "    print('{}\\t{}'.format(node_names[i], np.round(np.random.uniform(0, nodes[i, A]), 2)))\n"
   ]
  },
  {
   "cell_type": "code",
   "execution_count": 12,
   "metadata": {},
   "outputs": [
    {
     "name": "stdout",
     "output_type": "stream",
     "text": [
      "a-c\t0.12\na-e\t0.12\na-g\t0.02\na-h\t0.2\nb-d\t0.05\nb-f\t0.06\nb-i\t0.07\nb-j\t0.03\nc-d\t0.19\nc-f\t0.12\nd-e\t0.03\ng-h\t0.11\ni-j\t0.35\nc-a\t0.11\ne-a\t0.07\ng-a\t0.18\nh-a\t0.23\nd-b\t0.12\nf-b\t0.04\ni-b\t0.31\nj-b\t0.25\nd-c\t0.18\nf-c\t0.18\ne-d\t0.22\nh-g\t0.22\nji\t0.26\n"
     ]
    }
   ],
   "source": [
    "for i in range(len(edge_names)):\n",
    "    print('{}\\t{}'.format(edge_names[i], np.round(np.random.uniform(0, edges[i, A]), 2)))\n"
   ]
  },
  {
   "cell_type": "markdown",
   "metadata": {},
   "source": [
    "# Problem 2c\n",
    "Difference in the incremental value of the function that a single element makes when added to an input set decreases as the size of the input set increases.\n",
    "\n",
    "Ref: [https://en.wikipedia.org/wiki/Submodular_set_function](https://en.wikipedia.org/wiki/Submodular_set_function)"
   ]
  },
  {
   "cell_type": "code",
   "execution_count": null,
   "metadata": {},
   "outputs": [],
   "source": []
  }
 ],
 "metadata": {
  "kernelspec": {
   "display_name": "Python 2",
   "language": "python",
   "name": "python2"
  },
  "language_info": {
   "codemirror_mode": {
    "name": "ipython",
    "version": 2
   },
   "file_extension": ".py",
   "mimetype": "text/x-python",
   "name": "python",
   "nbconvert_exporter": "python",
   "pygments_lexer": "ipython2",
   "version": "2.7.6"
  }
 },
 "nbformat": 4,
 "nbformat_minor": 0
}
