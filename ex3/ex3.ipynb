{
 "cells": [
  {
   "cell_type": "markdown",
   "metadata": {
    "collapsed": true
   },
   "source": [
    "# Task 1\n",
    "\n",
    "$\\operatorname{Var}\\left(\\overline{X}\\right) = \\operatorname{Var}\\left(\\frac {1} {n} \\sum_{i=1}^n X_i\\right) = \\frac {1} {n^2}\\sum_{i=1}^n \\operatorname{Var}\\left(X_i\\right) = \\frac {1} {n^2}n\\sigma^2= \\frac {\\sigma^2} {n}$."
   ]
  },
  {
   "cell_type": "code",
   "execution_count": null,
   "metadata": {},
   "outputs": [],
   "source": [
    ""
   ]
  }
 ],
 "metadata": {
  "kernelspec": {
   "display_name": "Python 2",
   "language": "python",
   "name": "python2"
  },
  "language_info": {
   "codemirror_mode": {
    "name": "ipython",
    "version": 2
   },
   "file_extension": ".py",
   "mimetype": "text/x-python",
   "name": "python",
   "nbconvert_exporter": "python",
   "pygments_lexer": "ipython2",
   "version": "2.7.6"
  }
 },
 "nbformat": 4,
 "nbformat_minor": 0
}
