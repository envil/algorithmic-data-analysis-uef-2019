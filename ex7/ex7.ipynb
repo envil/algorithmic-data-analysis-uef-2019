{
 "cells": [
  {
   "cell_type": "code",
   "execution_count": 166,
   "metadata": {
    "collapsed": false
   },
   "outputs": [
    {
     "data": {
      "image/png": "[encoded data removed]",
      "text/plain": [
       "<Figure size 432x288 with 1 Axes>"
      ]
     },
     "metadata": {},
     "output_type": "display_data"
    },
    {
     "data": {
      "image/png": "[encoded data removed]",
      "text/plain": [
       "<Figure size 432x288 with 1 Axes>"
      ]
     },
     "metadata": {},
     "output_type": "display_data"
    }
   ],
   "source": [
    "import numpy as np\n",
    "import matplotlib.pyplot as plt\n",
    "% matplotlib inline\n",
    "\n",
    "X = np.array([[1, -3.57, -1.88],\n",
    "              [2, -5.98, -5.30],\n",
    "              [3, -1.89, -3.89],\n",
    "              [4, -4.27, -2.68],\n",
    "              [5, 0.10, 0.06],\n",
    "              [6, 6.48, 3.48],\n",
    "              [7, 3.94, 5.72],\n",
    "              [8, -4.99, 10.20],\n",
    "              [9, 9.27, 7.77],\n",
    "              [10, -2.67, -1.80],\n",
    "              [11, -5.55, -3.78],\n",
    "              [12, -3.38, -3.23],\n",
    "              [13, -4.00, -3.13],\n",
    "              [14, -4.97, -2.71],\n",
    "              [15, -3.77, -2.55],\n",
    "              [16, -5.14, -3.47],\n",
    "              [17, -2.52, -3.07],\n",
    "              [18, -3.73, -1.08],\n",
    "              [19, -2.88, -1.18],\n",
    "              [20, -3.90, -1.90],\n",
    "              [21, -4.27, -3.55],\n",
    "              [22, -2.69, -2.20],\n",
    "              [23, -3.60, -3.05],\n",
    "              [24, -2.74, -2.92],\n",
    "              [25, 5.45, 4.25],\n",
    "              [26, 2.23, 4.31],\n",
    "              [27, 3.25, 5.71],\n",
    "              [28, 5.24, 4.74],\n",
    "              [29, 2.81, 6.66],\n",
    "              [30, 5.85, 5.68],\n",
    "              [31, 3.75, 4.07],\n",
    "              [32, 3.82, 3.66],\n",
    "              [33, 6.30, 1.66],\n",
    "              [34, 3.20, 4.62],\n",
    "              [35, 4.70, 6.22],\n",
    "              [36, 3.53, 7.43],\n",
    "              [37, 4.69, 11.23],\n",
    "              [38, 0.68, 6.25],\n",
    "              [39, 1.70, 2.80]])\n",
    "\n",
    "plt.scatter(X[:, 1], X[:, 2])\n",
    "plt.show()\n",
    "plt.scatter(X[:9, 1], X[:9, 2])\n",
    "for i in range(9):\n",
    "    plt.text(X[i, 1], X[i, 2], str(int(X[i, 0])),\n",
    "             fontdict={'weight': 'bold', 'size': 9})\n",
    "plt.show()\n"
   ]
  },
  {
   "cell_type": "markdown",
   "metadata": {},
   "source": [
    "# Problem a\n",
    "\n",
    "- $X_6, X_7, X_9$ are the outlier.\n",
    "- Assumption: outliers are not similar to the rest of the data\n",
    "- Strength: simple\n",
    "- Weakness: only work on small data set"
   ]
  },
  {
   "cell_type": "code",
   "execution_count": 167,
   "metadata": {},
   "outputs": [
    {
     "name": "stdout",
     "output_type": "stream",
     "text": [
      "[3. 1. 1. 1. 1. 0. 1. 1.]\n"
     ]
    },
    {
     "data": {
      "image/png": "[encoded data removed]",
      "text/plain": [
       "<Figure size 432x288 with 1 Axes>"
      ]
     },
     "metadata": {},
     "output_type": "display_data"
    }
   ],
   "source": [
    "import math\n",
    "\n",
    "out = plt.hist(X[:9, 1], bins=range(-6, math.ceil(np.max(X[:9, 1]))+2, 2))\n",
    "print(out[0])\n",
    "plt.show()\n"
   ]
  },
  {
   "cell_type": "markdown",
   "metadata": {},
   "source": [
    "# Problem b\n",
    "\n",
    "- $X_9$ is the outlier.\n",
    "- Assumption: probability distribution underlying the data generation process\n",
    "- Strength: simple\n",
    "- Weakness: might not be correct if the distribution is not symetric"
   ]
  },
  {
   "cell_type": "code",
   "execution_count": 168,
   "metadata": {},
   "outputs": [
    {
     "name": "stdout",
     "output_type": "stream",
     "text": [
      "[-0.67375021 -1.14183612 -0.34744966 -0.80970877  0.03906111  1.2782263\n  0.78489094 -0.94955187  1.82011829]\n"
     ]
    }
   ],
   "source": [
    "mean = np.mean(X[:9, 1])\n",
    "std = np.std(X[:9, 1])\n",
    "zScores = (X[:9, 1] - mean) / std\n",
    "print(zScores)\n"
   ]
  },
  {
   "cell_type": "markdown",
   "metadata": {},
   "source": [
    "# Problem c\n",
    "\n",
    "- $X_8$ is the oulier\n",
    "- Assumption: outliers are not similar to the rest of the data\n",
    "- Strength: simple\n",
    "- Weakness: difficult to choose cells width, local, harder to work with higher dimension"
   ]
  },
  {
   "cell_type": "code",
   "execution_count": 169,
   "metadata": {},
   "outputs": [
    {
     "name": "stdout",
     "output_type": "stream",
     "text": [
      "[9.   9.27 7.77]\n[[2. 1. 0. 0. 1.]\n [1. 1. 0. 0. 0.]\n [0. 0. 1. 0. 0.]\n [0. 0. 1. 1. 0.]]\n"
     ]
    },
    {
     "data": {
      "image/png": "[encoded data removed]",
      "text/plain": [
       "<Figure size 432x288 with 1 Axes>"
      ]
     },
     "metadata": {},
     "output_type": "display_data"
    }
   ],
   "source": [
    "out = plt.hist2d(X[:9, 1], X[:9, 2], bins=[np.arange(-6, np.max(X[:9, 1])+4, 4),\n",
    "                                     np.arange(-6, np.max(X[:9, 2])+4, 4)])\n",
    "print(X[8,:])\n",
    "print(out[0])\n",
    "plt.show()\n"
   ]
  },
  {
   "cell_type": "markdown",
   "metadata": {},
   "source": [
    "# Problem d\n",
    "\n",
    "- Assumption: outliers lie at the border of the data space, whereas inliers lie in the center of the data space\n",
    "- Strength: seem legit\n",
    "- Weakness: problem with high dimensonality"
   ]
  },
  {
   "cell_type": "code",
   "execution_count": 170,
   "metadata": {},
   "outputs": [
    {
     "data": {
      "image/png": "[encoded data removed]",
      "text/plain": [
       "<Figure size 432x288 with 1 Axes>"
      ]
     },
     "metadata": {},
     "output_type": "display_data"
    }
   ],
   "source": [
    "plt.scatter(X[:, 1], X[:, 2])\n",
    "for i in range(X.shape[0]):\n",
    "    plt.text(X[i, 1], X[i, 2], str(int(X[i, 0])),\n",
    "             fontdict={'weight': 'bold', 'size': 9})\n",
    "\n",
    "outliers = []\n",
    "for i in [1, 7, 36, 8, 32, 2, 1]:\n",
    "    outliers.append(X[i, :])\n",
    "\n",
    "outliers = np.array(outliers)\n",
    "plt.plot(outliers[:, 1], outliers[:, 2], c='r')\n",
    "plt.show()\n"
   ]
  },
  {
   "cell_type": "markdown",
   "metadata": {},
   "source": [
    "# Problem e\n",
    "\n",
    "- Most of them are outliers?\n",
    "- Assumption: outliers are not similar to the rest of the data\n",
    "- Strength:\n",
    "- Weakness:"
   ]
  },
  {
   "cell_type": "code",
   "execution_count": 171,
   "metadata": {},
   "outputs": [
    {
     "name": "stdout",
     "output_type": "stream",
     "text": [
      "[[ 0.          4.18383795  2.61963738  1.06301458  4.15120464 11.39\n  10.68457299 12.16317393 16.06200797]\n [ 4.18383795  0.          4.32622237  3.12865786  8.1053069  15.24270317\n  14.8272317  15.53158395 20.08450647]\n [ 2.61963738  4.32622237  0.          2.66992509  4.42296281 11.15230021\n  11.24015124 14.42699206 16.14004957]\n [ 1.06301458  3.12865786  2.66992509  0.          5.15795502 12.38983858\n  11.74581202 12.90010853 17.10362827]\n [ 4.15120464  8.1053069   4.42296281  5.15795502  0.          7.23883969\n   6.83967836 11.34582302 11.98052586]\n [11.39       15.24270317 11.15230021 12.38983858  7.23883969  0.\n   3.38662073 13.29358116  5.11744077]\n [10.68457299 14.8272317  11.24015124 11.74581202  6.83967836  3.38662073\n   0.          9.99076073  5.71063919]\n [12.16317393 15.53158395 14.42699206 12.90010853 11.34582302 13.29358116\n   9.99076073  0.         14.46556255]\n [16.06200797 20.08450647 16.14004957 17.10362827 11.98052586  5.11744077\n   5.71063919 14.46556255  0.        ]]\n[[0.         0.         0.         1.06301458 0.         0.\n  0.         0.         0.        ]\n [0.         0.         0.         0.         0.         0.\n  0.         0.         0.        ]\n [0.         0.         0.         0.         0.         0.\n  0.         0.         0.        ]\n [1.06301458 0.         0.         0.         0.         0.\n  0.         0.         0.        ]\n [0.         0.         0.         0.         0.         0.\n  0.         0.         0.        ]\n [0.         0.         0.         0.         0.         0.\n  0.         0.         0.        ]\n [0.         0.         0.         0.         0.         0.\n  0.         0.         0.        ]\n [0.         0.         0.         0.         0.         0.\n  0.         0.         0.        ]\n [0.         0.         0.         0.         0.         0.\n  0.         0.         0.        ]]\n"
     ]
    },
    {
     "data": {
      "image/png": "[encoded data removed]",
      "text/plain": [
       "<Figure size 432x288 with 1 Axes>"
      ]
     },
     "metadata": {},
     "output_type": "display_data"
    }
   ],
   "source": [
    "from scipy.spatial import distance_matrix\n",
    "\n",
    "D = distance_matrix(X[:9, 1:3], X[:9, 1:3])\n",
    "print(D)\n",
    "D[D > 2] = 0\n",
    "print(D)\n",
    "plt.scatter(X[:9, 1], X[:9, 2])\n",
    "plt.show()\n"
   ]
  },
  {
   "cell_type": "markdown",
   "metadata": {},
   "source": [
    "# Problem f\n",
    "\n",
    "- $X_8, X_9$ are the ouliers\n",
    "- Assumption: outliers are not similar to the rest of the data\n",
    "- Strength: finner granualiry\n",
    "- Weakness: computational heavy\n"
   ]
  },
  {
   "cell_type": "code",
   "execution_count": 172,
   "metadata": {},
   "outputs": [
    {
     "name": "stdout",
     "output_type": "stream",
     "text": [
      "[10.68457299 14.8272317  11.15230021 11.74581202  7.23883969 11.39\n 10.68457299 13.29358116 16.06200797]\n"
     ]
    }
   ],
   "source": [
    "D = distance_matrix(X[:9, 1:3], X[:9, 1:3])\n",
    "D = np.sort(D, axis=1)\n",
    "print(D[:, 5])\n",
    "# plt.scatter(X[:9, 1], X[:9, 2])\n",
    "# plt.show()"
   ]
  },
  {
   "cell_type": "markdown",
   "metadata": {},
   "source": [
    "# Problem g\n",
    "\n",
    "- $X_8, X_9$ are the ouliers of cluster A, $X_8, X_2$ are the ouliers of cluster B\n",
    "- Assumption: outliers are not similar to the rest of the data\n",
    "- Strength: unitless and scale-invariant, takes into account the correlations of the data set. [Wiki]\n",
    "- Weakness: choosing the cluster is difficult."
   ]
  },
  {
   "cell_type": "code",
   "execution_count": 173,
   "metadata": {},
   "outputs": [
    {
     "name": "stdout",
     "output_type": "stream",
     "text": [
      "[[ 1.35  2.71  3.47  0.7   4.34 10.63 10.4  19.39 14.5 ]\n [ 6.44  8.99  6.63  7.1   3.92  2.01  0.46  7.16  3.84]]\n[0 0 0 0 1 1 1 1 1]\n"
     ]
    },
    {
     "data": {
      "image/png": "[encoded data removed]",
      "text/plain": [
       "<Figure size 432x288 with 1 Axes>"
      ]
     },
     "metadata": {},
     "output_type": "display_data"
    },
    {
     "data": {
      "image/png": "[encoded data removed]",
      "text/plain": [
       "<Figure size 432x288 with 1 Axes>"
      ]
     },
     "metadata": {},
     "output_type": "display_data"
    }
   ],
   "source": [
    "mu_a = np.array([-4, -3])\n",
    "mu_b = np.array([4, 5])\n",
    "sigma_a = np.array([[1, 0.5], [0.5, 0.75]])\n",
    "sigma_b = np.array([[2.2, 0.2], [0.2, 2.5]])\n",
    "\n",
    "D_a = np.sqrt(np.diagonal((X[:9, 1:3] - mu_a) @ np.linalg.inv(sigma_a) @ (X[:9, 1:3] - mu_a).T))\n",
    "# print(np.diagonal(D_a))\n",
    "D_b = np.sqrt(np.diagonal((X[:9, 1:3] - mu_b) @ np.linalg.inv(sigma_b) @ (X[:9, 1:3] - mu_b).T))\n",
    "# print(np.diagonal(D_b))\n",
    "D = np.array([np.round(D_a, 2), np.round(D_b, 2)])\n",
    "print(D)\n",
    "print(np.argmin(D, axis=0))\n",
    "\n",
    "plt.scatter(X[:9, 1], X[:9, 2], s=D_a * 5)\n",
    "plt.scatter([-4], [-3], c='r')\n",
    "plt.show()\n",
    "\n",
    "plt.scatter(X[:9, 1], X[:9, 2], s=D_b * 5)\n",
    "plt.scatter([4], [5], c='r')\n",
    "plt.show()\n",
    "\n"
   ]
  },
  {
   "cell_type": "markdown",
   "metadata": {},
   "source": [
    "# Problem h\n",
    "\n",
    "- None are outlier?\n",
    "- Strength: good for local density estimation\n",
    "- Weakness: difficult to compute"
   ]
  },
  {
   "cell_type": "code",
   "execution_count": 177,
   "metadata": {},
   "outputs": [
    {
     "name": "stdout",
     "output_type": "stream",
     "text": [
      "1 0.1527317880794702\n2 0.34456489891590975\n3 0.3017174082747853\n4 0.16335433834222005\n5 0.3648421052631579\n6 0.18776210446054137\n7 0.15650142745912277\n8 0.49677567941041\n9 0.38815789473684215\n10 0.17695473251028807\n11 0.18429534134192796\n12 0.16675165731769506\n13 0.13951067152524727\n14 0.21530249110320288\n15 0.15554414784394252\n16 0.175990675990676\n17 0.16159250585480098\n18 0.21122244488977956\n19 0.18448475492087993\n20 0.17580425917535117\n21 0.19459198454852727\n22 0.16245928338762214\n23 0.14731910463300366\n24 0.17495219885277247\n25 0.15328633158972027\n26 0.17414187643020596\n27 0.15970580509587606\n28 0.16088249876053548\n29 0.18467153284671534\n30 0.18274456521739127\n31 0.1574001566170713\n32 0.17401332649923115\n33 0.28798095993653317\n34 0.14142480211081795\n35 0.16342776867244205\n36 0.2204379562043796\n37 0.3999681933842239\n38 0.2723196086424786\n39 0.21528662420382166\n"
     ]
    }
   ],
   "source": [
    "k = 5\n",
    "D = np.round(distance_matrix(X[:, 1:3], X[:, 1:3]), 2)\n",
    "delta_k = np.sort(D, axis=1)[:, k]\n",
    "N_k = []\n",
    "R_k = []\n",
    "AR_kx = []\n",
    "indices = []\n",
    "for i in range(len(delta_k)):\n",
    "    current_n_k = D[i, :]\n",
    "    N_k.append(np.array(current_n_k[current_n_k <= delta_k[i]]))\n",
    "    indices.append(np.where(current_n_k <= delta_k[i], np.ones(D[i, :].shape), np.zeros(D[i, :].shape)))\n",
    "    R_k.append(np.array(np.where(current_n_k > D[i, :], current_n_k, D[i, :])))\n",
    "    AR_kx.append(np.dot(R_k[i], indices[i]) / np.sum(indices[i]))\n",
    "\n",
    "for i in range(len(delta_k)):\n",
    "    Arkx = AR_kx[i]\n",
    "    Arkx_prime = np.dot(indices[i], AR_kx)/np.sum(indices[i])\n",
    "    lof = Arkx/(Arkx_prime * np.sum(indices[i]))\n",
    "    print(i+1, lof)\n",
    "# print(np.array(R_k))\n",
    "\n",
    "# def lof(k, x):\n",
    "#     for\n"
   ]
  },
  {
   "cell_type": "code",
   "execution_count": 175,
   "metadata": {},
   "outputs": [],
   "source": []
  }
 ],
 "metadata": {
  "kernelspec": {
   "display_name": "Python 2",
   "language": "python",
   "name": "python2"
  },
  "language_info": {
   "codemirror_mode": {
    "name": "ipython",
    "version": 2
   },
   "file_extension": ".py",
   "mimetype": "text/x-python",
   "name": "python",
   "nbconvert_exporter": "python",
   "pygments_lexer": "ipython2",
   "version": "2.7.6"
  }
 },
 "nbformat": 4,
 "nbformat_minor": 0
}
